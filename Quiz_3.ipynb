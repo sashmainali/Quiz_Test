{
 "cells": [
  {
   "cell_type": "markdown",
   "metadata": {},
   "source": [
    "<div class=\"image\">\n",
    "\n",
    "  <img style=\"float: right;\" src=\"https://pku.org.uk/head.png\" width=\"45%\" align=\"right\">\n",
    "      <h4>\n",
    "          <p style=\"font-size:25pt\">UK19B307 AI Analytics</p>\n",
    "          <p style=\"font-size:15pt\">Quiz 3</p>\n",
    "      </h4>\n",
    "<h5>\n",
    "    <p> Peking University</p>\n",
    "    <p> Demonstrable Labs</p>\n",
    "</h5>\n",
    "</div>"
   ]
  },
  {
   "cell_type": "markdown",
   "metadata": {},
   "source": [
    "### Please doule click this block and enter your name / ID:\n",
    "\n",
    "- Name: Sashanta Mainali\n",
    "    - ID: 1901213962"
   ]
  },
  {
   "cell_type": "code",
   "execution_count": 2,
   "metadata": {},
   "outputs": [],
   "source": [
    "import numpy as np"
   ]
  },
  {
   "cell_type": "markdown",
   "metadata": {},
   "source": [
    "<div class=\"alert alert-warning\">\n",
    "<b>QUESTION 1: </b> \n",
    "\n",
    "1, Define a list: `list_1 = [1, 2, 3, 4, 5, 6, 7, 8, 9, 10]`\n",
    "\n",
    "2, Use list comprehension to create a new list which contains elements larger or equal to 3 in `list_1`. Print the new list, the expected output would be: `[3, 4, 5, 6, 7, 8, 9, 10]`\n",
    "</div>"
   ]
  },
  {
   "cell_type": "code",
   "execution_count": 10,
   "metadata": {},
   "outputs": [
    {
     "name": "stdout",
     "output_type": "stream",
     "text": [
      "[3, 4, 5, 6, 7, 8, 9, 10]\n"
     ]
    }
   ],
   "source": [
    "list_1 = [1, 2, 3, 4, 5, 6, 7, 8, 9, 10]\n",
    "print([x for x in list_1 if x>=3])"
   ]
  },
  {
   "cell_type": "markdown",
   "metadata": {},
   "source": [
    "<div class=\"alert alert-warning\">\n",
    "<b>QUESTION 2: </b> \n",
    "\n",
    "1, Define a dictionary with fruit names and prices: `prices = {\"banana\":0.5, \"apple\":1, \"kiwi\":1, \"orange\":0.8, \"pineapple\":3.2}`\n",
    "\n",
    "2, Please calculate the average price of the fruits and print the result. The expected output is `1.3`"
   ]
  },
  {
   "cell_type": "code",
   "execution_count": 15,
   "metadata": {},
   "outputs": [
    {
     "data": {
      "text/plain": [
       "1.3"
      ]
     },
     "execution_count": 15,
     "metadata": {},
     "output_type": "execute_result"
    }
   ],
   "source": [
    "prices = {\"banana\":0.5, \"apple\":1, \"kiwi\":1, \"orange\":0.8, \"pineapple\":3.2}\n",
    "sum(prices.values())/len(prices.values())"
   ]
  },
  {
   "cell_type": "markdown",
   "metadata": {},
   "source": [
    "<div class=\"alert alert-warning\">\n",
    "<b>QUESTION 3: </b> \n",
    "\n",
    "Using a <b>while</b> loop, calculate the cube sum of the first 10 natural numbers and print the result.\n",
    "\n",
    "$1^{3}+2^{3}+3^{3}+4^{3}+5^{3}+6^{3}+7^{3}+8^{3}+9^{3}+10^{3}$\n",
    "\n",
    "<br>\n",
    "The expected result would be $3025$.\n",
    "</div>"
   ]
  },
  {
   "cell_type": "code",
   "execution_count": 13,
   "metadata": {},
   "outputs": [
    {
     "name": "stdout",
     "output_type": "stream",
     "text": [
      "3025\n"
     ]
    }
   ],
   "source": [
    "def sumOfnaturalcubes(n): \n",
    "    sum = 0\n",
    "    for i in range(1, n+1): \n",
    "        sum +=i*i*i \n",
    "          \n",
    "    return sum\n",
    "  \n",
    "   \n",
    "n = 10\n",
    "print(sumOfnaturalcubes(n))"
   ]
  },
  {
   "cell_type": "markdown",
   "metadata": {},
   "source": [
    "<div class=\"alert alert-warning\">\n",
    "\n",
    "<b>QUESTION 4:</b>\n",
    "\n",
    "Create a $3$ $x$ $7$ array with integers ranging from 200 to 0 with a step of 10 (in descending order).\n",
    "\n",
    "Print the array, the expected output is:\n",
    "    \n",
    "```\n",
    "[[200 190 180 170 160 150 140]\n",
    " [130 120 110 100  90  80  70]\n",
    " [ 60  50  40  30  20  10   0]]```\n",
    " \n",
    "</div>"
   ]
  },
  {
   "cell_type": "code",
   "execution_count": 7,
   "metadata": {},
   "outputs": [
    {
     "name": "stdout",
     "output_type": "stream",
     "text": [
      "[[200 190 180 170 160 150 140]\n",
      " [130 120 110 100  90  80  70]\n",
      " [ 60  50  40  30  20  10   0]]\n"
     ]
    }
   ],
   "source": [
    "print(np.arange(200,-1,-10).reshape(3,7))"
   ]
  },
  {
   "cell_type": "markdown",
   "metadata": {},
   "source": [
    "<div class=\"alert alert-warning\">\n",
    "<b>QUESTION 5:</b> \n",
    "    \n",
    "Please print the following string using **ONE LINE** of code:\n",
    "    \n",
    "```\n",
    "Dear Diary,\n",
    "Today's quiz was \"great\".\n",
    "I'm looking forward to the next week's \"challenges\".\n",
    "```\n",
    "\n",
    "</div>"
   ]
  },
  {
   "cell_type": "code",
   "execution_count": 20,
   "metadata": {},
   "outputs": [
    {
     "name": "stdout",
     "output_type": "stream",
     "text": [
      "Dear Diary,\n",
      "Today's quiz \"great\".\n",
      "I'm looking forward to next week's \"challenges\". \n"
     ]
    }
   ],
   "source": [
    "print(\"Dear Diary,\\nToday\\'s quiz \\\"great\\\".\\nI\\'m looking forward to next week\\'s \\\"challenges\\\". \")"
   ]
  },
  {
   "cell_type": "markdown",
   "metadata": {},
   "source": [
    "<div class=\"alert alert-warning\">\n",
    "<b>QUESTION 6:</b>\n",
    "\n",
    "Create a function called `factor_div` wich takes two arguments `x` and `y`. The function returns `x` divided by `y` as an **integer**.\n",
    "\n",
    "If `y` is not a factor of `x` (`x` can't be divided by `y` without a remainder), the function will raise an `AssertionError` with the message: `Please make sure that the second argument is a factor of the first argument.`\n",
    "</div>"
   ]
  },
  {
   "cell_type": "code",
   "execution_count": 1,
   "metadata": {},
   "outputs": [],
   "source": [
    "def factor_div(x,y):\n",
    "    if (y%x==0):\n",
    "        return int(x/y)\n",
    "    else:\n",
    "        print('Please make sure that the second argument is a factor of the first argument')\n"
   ]
  },
  {
   "cell_type": "markdown",
   "metadata": {},
   "source": [
    "<div class=\"alert alert-warning\">\n",
    "<b>QUESTION 7:</b>\n",
    "    \n",
    "1, Define a list: `list_b = [10, 100, 1000, 10000, 100000, 1000000, 1000000]`\n",
    "\n",
    "2, Print a slice of `list_b` with the 3 middle elements. The expected output is: \n",
    "    \n",
    "```\n",
    "[1000, 10000, 100000]```\n",
    "\n",
    "</div>"
   ]
  },
  {
   "cell_type": "code",
   "execution_count": 2,
   "metadata": {},
   "outputs": [
    {
     "name": "stdout",
     "output_type": "stream",
     "text": [
      "[1000, 10000, 100000]\n"
     ]
    }
   ],
   "source": [
    "list_b = [10, 100, 1000, 10000, 100000, 1000000, 1000000]\n",
    "print(list_b[2:5])"
   ]
  },
  {
   "cell_type": "markdown",
   "metadata": {},
   "source": [
    "<div class=\"alert alert-warning\">\n",
    "<b>QUESTION 8:</b>\n",
    "    \n",
    "1, Define an array: `arr = np.array([0, 1, 2, 3, 4, 5, 6, 7, 8]).reshape(3,3)`\n",
    "\n",
    "2, Replace the elements in the middle row with 8s. Print the new array, the expected output is:\n",
    "```\n",
    "[[0 1 2]\n",
    " [8 8 8]\n",
    " [6 7 8]]```\n",
    "\n",
    "</div>"
   ]
  },
  {
   "cell_type": "code",
   "execution_count": 10,
   "metadata": {},
   "outputs": [
    {
     "name": "stdout",
     "output_type": "stream",
     "text": [
      "[[0 1 2]\n",
      " [8 8 8]\n",
      " [6 7 8]]\n"
     ]
    }
   ],
   "source": [
    "arr = np.array([0, 1, 2, 3, 4, 5, 6, 7, 8]).reshape(3,3)\n",
    "arr[1,:] = [8,8,8]\n",
    "print(arr)"
   ]
  },
  {
   "cell_type": "markdown",
   "metadata": {},
   "source": [
    "<div class=\"alert alert-warning\">\n",
    "<b>QUESTION 9:</b>\n",
    "    \n",
    "1, Define two arrays:\n",
    "    \n",
    "```python\n",
    "prices_array = np.array([170.12,  93.29,  55.28, 145.3 , 171.81,  59.5 , 100.5 ]) \n",
    "earnings_array = np.array([ 9.2 ,  5.31,  2.41,  5.91, 15.42,  2.51,  6.79])```\n",
    "    \n",
    "`prices_array` contains the stock prices for 7 companies and `earnings_array` contains their earnings. \n",
    "\n",
    "2, Create a new array called `PE` which contains the PE (price to earnings) ratios for those companies. The PE ratio is calculated by dividing stock price by earnings. Print the new array, the expected output is:\n",
    "```\n",
    "[18.49130435 17.56873823 22.93775934 24.58544839 11.14202335 23.70517928\n",
    " 14.8011782 ]```    \n",
    "\n",
    "</div>"
   ]
  },
  {
   "cell_type": "code",
   "execution_count": 8,
   "metadata": {},
   "outputs": [
    {
     "name": "stdout",
     "output_type": "stream",
     "text": [
      "[18.49130435 17.56873823 22.93775934 24.58544839 11.14202335 23.70517928\n",
      " 14.8011782 ]\n"
     ]
    }
   ],
   "source": [
    "prices_array = np.array([170.12,  93.29,  55.28, 145.3 , 171.81,  59.5 , 100.5 ]) \n",
    "earnings_array = np.array([ 9.2 ,  5.31,  2.41,  5.91, 15.42,  2.51,  6.79])\n",
    "\n",
    "PE = prices_array/earnings_array\n",
    "print(PE)"
   ]
  },
  {
   "cell_type": "markdown",
   "metadata": {},
   "source": [
    "<div class=\"alert alert-warning\">\n",
    "<b>QUESTION 10:</b>\n",
    "    \n",
    "1, Define an array: `arr = np.arange(21).reshape(7,3)`\n",
    "\n",
    "2, Select out a subset of all even rows from `arr` and print it. The expected output is:\n",
    "```\n",
    "[[ 3  4  5]\n",
    " [ 9 10 11]\n",
    " [15 16 17]]```\n",
    "\n",
    "</div>"
   ]
  },
  {
   "cell_type": "code",
   "execution_count": 20,
   "metadata": {},
   "outputs": [
    {
     "name": "stdout",
     "output_type": "stream",
     "text": [
      "[[ 3  4  5]\n",
      " [ 9 10 11]\n",
      " [15 16 17]]\n"
     ]
    }
   ],
   "source": [
    "arr = np.arange(21).reshape(7,3)\n",
    "print(arr[[1,3,5]])"
   ]
  },
  {
   "cell_type": "markdown",
   "metadata": {},
   "source": [
    "<div class=\"alert alert-warning\">\n",
    "<b>QUESTION 11:</b>\n",
    "    \n",
    "1, Define an array: `data_arr = np.array([[10,2,3],[1,3,3],[2,34,4],[5,4,3]])`\n",
    "\n",
    "2, For each row in the array, apply the following formula:\n",
    "    \n",
    "$x_{1}\\times2 + x_{2}\\times5 + x_{3}\\times3$\n",
    "    \n",
    "For instance, if you apply the formula to the first row, you will get 39 ($10\\times2 + 2\\times5 + 3\\times3$).\n",
    "\n",
    "3, A one-dimensional array will be created after applying the formula to each row. Print the new array, the expected output is:\n",
    "```\n",
    "[ 39  26 186  39]```\n",
    "</div>"
   ]
  },
  {
   "cell_type": "code",
   "execution_count": null,
   "metadata": {},
   "outputs": [],
   "source": [
    "data_arr = np.array([[10,2,3],[1,3,3],[2,34,4],[5,4,3]])\n"
   ]
  },
  {
   "cell_type": "markdown",
   "metadata": {},
   "source": [
    "<div class=\"alert alert-warning\">\n",
    "<b>QUESTION 12:</b>\n",
    "    \n",
    "1, Define an array: \n",
    "    \n",
    "```python\n",
    "arr2d = np.array([[ 2, 10,  8,  7],\n",
    "                  [20, 13,  5,  2],\n",
    "                  [17, 14,  1,  3],\n",
    "                  [ 9, 11, 17, 10],\n",
    "                  [ 5,  8,  2, 14]])```\n",
    "\n",
    "2, Sort the values in each column of `arr2d` in ascending order. Print the new array, the expected output is:\n",
    "```\n",
    "[[ 2  8  1  2]\n",
    " [ 5 10  2  3]\n",
    " [ 9 11  5  7]\n",
    " [17 13  8 10]\n",
    " [20 14 17 14]]```\n",
    "\n",
    "</div>"
   ]
  },
  {
   "cell_type": "code",
   "execution_count": 45,
   "metadata": {},
   "outputs": [],
   "source": [
    "import numpy\n",
    "arr2d = np.array([[ 2, 10,  8,  7],\n",
    "                  [20, 13,  5,  2],\n",
    "                  [17, 14,  1,  3],\n",
    "                  [ 9, 11, 17, 10],\n",
    "                  [ 5,  8,  2, 14]])\n",
    "\n",
    "np.sort(arr2d)\n",
    "\n",
    "sorted_array = arr2d[numpy.argsort(arr2d[:, 1])]\n"
   ]
  },
  {
   "cell_type": "markdown",
   "metadata": {},
   "source": [
    "<div class=\"alert alert-warning\">\n",
    "<b>QUESTION 13:</b>\n",
    "    \n",
    "1, Define an array: `arr = np.arange(21).reshape(7,3)`\n",
    "\n",
    "2, Print the array below by indexing `arr`.\n",
    "\n",
    "```    \n",
    "[[ 7  8]\n",
    " [10 11]\n",
    " [13 14]]```\n",
    "\n",
    "</div>"
   ]
  },
  {
   "cell_type": "code",
   "execution_count": 3,
   "metadata": {},
   "outputs": [
    {
     "name": "stdout",
     "output_type": "stream",
     "text": [
      "[[ 7  8]\n",
      " [10 11]\n",
      " [13 14]]\n"
     ]
    }
   ],
   "source": [
    "arr = np.arange(21).reshape(7,3)\n",
    "print(arr[2:5,1::])"
   ]
  },
  {
   "cell_type": "markdown",
   "metadata": {},
   "source": [
    "<div class=\"alert alert-warning\">\n",
    "<b>QUESTION 14:</b>\n",
    "    \n",
    "1, Define an array: `arr = np.arange(21).reshape(7,3)`\n",
    "\n",
    "2, Replace the odd numbers in `arr` with 1s. Print the new array, the expected output is:\n",
    "```\n",
    "[[ 0  1  2]\n",
    " [ 1  4  1]\n",
    " [ 6  1  8]\n",
    " [ 1 10  1]\n",
    " [12  1 14]\n",
    " [ 1 16  1]\n",
    " [18  1 20]]```\n",
    "</div>"
   ]
  },
  {
   "cell_type": "code",
   "execution_count": 24,
   "metadata": {},
   "outputs": [
    {
     "name": "stdout",
     "output_type": "stream",
     "text": [
      "[[ 0  1  2]\n",
      " [ 1  4  1]\n",
      " [ 6  1  8]\n",
      " [ 1 10  1]\n",
      " [12  1 14]\n",
      " [ 1 16  1]\n",
      " [18  1 20]]\n"
     ]
    }
   ],
   "source": [
    "arr = np.arange(21).reshape(7,3)\n",
    "arr[arr%2 != 0] = 1\n",
    "print(arr)"
   ]
  },
  {
   "cell_type": "markdown",
   "metadata": {},
   "source": [
    "<div class=\"alert alert-warning\">\n",
    "<b>QUESTION 15:</b>\n",
    "    \n",
    "1, Define a string: `string_NY = 'You know New York, you need New York, you know you need unique New York.'`\n",
    "\n",
    "2, Write code to count the number of times `New York` occurs in the string `string_NY`. Print the result, the correct output is `3`.\n",
    "</div>"
   ]
  },
  {
   "cell_type": "code",
   "execution_count": 41,
   "metadata": {},
   "outputs": [
    {
     "name": "stdout",
     "output_type": "stream",
     "text": [
      "3\n"
     ]
    }
   ],
   "source": [
    "def count_occurences(s,word):\n",
    "\n",
    "    count = 0\n",
    "    for i in range(len(s)): \n",
    "        if s[i:i+len(word)] == word:\n",
    "            count += 1    \n",
    "    return count\n",
    "\n",
    "string_NY = 'You know New York, you need New York, you know you need unique New York.'\n",
    "myword = \"New York\"\n",
    "print(count_occurences(string_NY,myword))"
   ]
  },
  {
   "cell_type": "markdown",
   "metadata": {},
   "source": [
    "<div class=\"alert alert-warning\">\n",
    "<b>QUESTION 16: </b> \n",
    "\n",
    "Create a $5\\times5$ array with 0's on the border and 1's inside (as shown below). Print the array.\n",
    "```\n",
    "[[0. 0. 0. 0. 0.]\n",
    " [0. 1. 1. 1. 0.]\n",
    " [0. 1. 1. 1. 0.]\n",
    " [0. 1. 1. 1. 0.]\n",
    " [0. 0. 0. 0. 0.]]   \n",
    "```\n",
    "</div>"
   ]
  },
  {
   "cell_type": "code",
   "execution_count": 32,
   "metadata": {},
   "outputs": [
    {
     "name": "stdout",
     "output_type": "stream",
     "text": [
      "[[0. 0. 0. 0. 0.]\n",
      " [0. 1. 1. 1. 0.]\n",
      " [0. 1. 1. 1. 0.]\n",
      " [0. 1. 1. 1. 0.]\n",
      " [0. 0. 0. 0. 0.]]\n"
     ]
    }
   ],
   "source": [
    "arr = np.zeros((5,5))\n",
    "arr[ 1:4, 1:4] = 1\n",
    "print(arr)"
   ]
  },
  {
   "cell_type": "markdown",
   "metadata": {},
   "source": [
    "<div class=\"alert alert-warning\">\n",
    "<b>QUESTION 17: </b> \n",
    "\n",
    "1, Create a function called `divisible_by_9` using `lambda` statement which returns the argument divided by `9` if the number can be divided by `9` without a remainder. If the argument can't be divided by 9 without a remainder the function should return `0.0` (float number).\n",
    "    \n",
    "2, Define a list: `numbers = [9, 15, 18, 22, 27, 42]`\n",
    "\n",
    "3, Apply the function `divisible_by_9` to all the elements in list `numbers` using `map` function.\n",
    "\n",
    "4, Print the new list, the expected output is: `[1.0, 0.0, 2.0, 0.0, 3.0, 0.0]`\n",
    "</div>"
   ]
  },
  {
   "cell_type": "code",
   "execution_count": null,
   "metadata": {},
   "outputs": [],
   "source": []
  },
  {
   "cell_type": "markdown",
   "metadata": {},
   "source": [
    "<div class=\"alert alert-warning\">\n",
    "<b>QUESTION 18:</b>\n",
    "\n",
    "Define a function named `sum_arr` which takes an array with numbers as the argument. The funtion would calculate the sum of the elements in the array and print `The sum of the elements in the array is: ` followed by the result.\n",
    " \n",
    "If we call the function with array `np.array([[1,2,3],[4,5,6],[7,8,9]])`, it would print:\n",
    "\n",
    "`The sum of the elements in the array is: 45`"
   ]
  },
  {
   "cell_type": "code",
   "execution_count": null,
   "metadata": {},
   "outputs": [],
   "source": [
    "sum_arr"
   ]
  },
  {
   "cell_type": "markdown",
   "metadata": {},
   "source": [
    "<div class=\"alert alert-warning\">\n",
    "<b>QUESTION 19: </b> \n",
    "    \n",
    "Define a list: `list_num = [1, 3, 5, 6, 8]`\n",
    "\n",
    "Sort the list by the ascending order of the absolute difference between the element and the number `5`. Print the new list, the expected output is:\n",
    "\n",
    "`[5, 6, 3, 8, 1]`\n",
    "</div>"
   ]
  },
  {
   "cell_type": "code",
   "execution_count": 30,
   "metadata": {},
   "outputs": [
    {
     "name": "stdout",
     "output_type": "stream",
     "text": [
      "5\n",
      "6\n",
      "3\n",
      "8\n",
      "1\n"
     ]
    }
   ],
   "source": [
    "def printsorted(a, n, val): \n",
    "        \n",
    "    b =[[0 for x in range(2)] for y in range(n)] \n",
    "      \n",
    "    for i in range(0, n):  \n",
    "        b[i][0] = abs(a[i]-val)  \n",
    "        b[i][1] = i \n",
    "          \n",
    "      \n",
    "    b.sort()  \n",
    "      \n",
    "    for i in range(0, n):  \n",
    "        print (a[b[i][1]])\n",
    "      \n",
    "          \n",
    "      \n",
    "a = [1, 3, 5, 6, 8] \n",
    "n = len(a)  \n",
    "val = 5\n",
    "printsorted(a, n, val) "
   ]
  },
  {
   "cell_type": "markdown",
   "metadata": {},
   "source": [
    "<div class=\"alert alert-warning\">\n",
    "<b>QUESTION 20: </b> \n",
    "\n",
    "Define a dictionary: \n",
    "    \n",
    "`Shares = {'James':2359, 'Robert':4032, 'Nicolas':1020, 'Louis':2500, 'Bernard': 5538, 'Logan':1330}`\n",
    "\n",
    "For the dictionary keys end with letter `s`, update the corresponding dictionary values to `2020`. Print the updated dictionary, the expected output would be:\n",
    "\n",
    "`{'James': 2020, 'Robert': 4032, 'Nicolas': 2020, 'Louis': 2020, 'Bernard': 5538, 'Logan': 1330}`\n",
    "</div>"
   ]
  },
  {
   "cell_type": "code",
   "execution_count": 9,
   "metadata": {},
   "outputs": [
    {
     "ename": "SyntaxError",
     "evalue": "'continue' not properly in loop (<ipython-input-9-bbb885764d4b>, line 8)",
     "output_type": "error",
     "traceback": [
      "\u001b[1;36m  File \u001b[1;32m\"<ipython-input-9-bbb885764d4b>\"\u001b[1;36m, line \u001b[1;32m8\u001b[0m\n\u001b[1;31mSyntaxError\u001b[0m\u001b[1;31m:\u001b[0m 'continue' not properly in loop\n"
     ]
    }
   ],
   "source": [
    "Shares = {'James':2359, 'Robert':4032, 'Nicolas':1020, 'Louis':2500, 'Bernard': 5538, 'Logan':1330}\n",
    "for i in Shares :\n",
    "    if ('s' in i) : Shares[i] = 2020\n",
    "else:\n",
    "    continue"
   ]
  },
  {
   "cell_type": "code",
   "execution_count": null,
   "metadata": {},
   "outputs": [],
   "source": []
  }
 ],
 "metadata": {
  "kernelspec": {
   "display_name": "Python 3",
   "language": "python",
   "name": "python3"
  },
  "language_info": {
   "codemirror_mode": {
    "name": "ipython",
    "version": 3
   },
   "file_extension": ".py",
   "mimetype": "text/x-python",
   "name": "python",
   "nbconvert_exporter": "python",
   "pygments_lexer": "ipython3",
   "version": "3.7.4"
  }
 },
 "nbformat": 4,
 "nbformat_minor": 2
}
